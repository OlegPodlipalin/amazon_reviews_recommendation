{
 "cells": [
  {
   "cell_type": "code",
   "execution_count": 3,
   "metadata": {},
   "outputs": [],
   "source": [
    "import os\n",
    "import numpy as np\n",
    "import pandas as pd\n",
    "from tensorflow.keras.models import load_model"
   ]
  },
  {
   "cell_type": "code",
   "execution_count": 4,
   "metadata": {},
   "outputs": [],
   "source": [
    "data_path= os.path.join(os.getcwd(), \"data\")\n",
    "model_path= os.path.join(os.getcwd(), \"models\")\n",
    "embeddings_path = os.path.join(os.getcwd(), \"embeddings\")"
   ]
  },
  {
   "cell_type": "code",
   "execution_count": 5,
   "metadata": {},
   "outputs": [],
   "source": [
    "df = pd.read_parquet(os.path.join(data_path, \"clean_df.pq\"))"
   ]
  },
  {
   "cell_type": "code",
   "execution_count": 6,
   "metadata": {},
   "outputs": [],
   "source": [
    "item_desc_emb_df = pd.read_parquet(os.path.join(embeddings_path, \"item_desc_emb_df.pq\"))\n",
    "item_price_df = pd.read_parquet(os.path.join(embeddings_path, \"item_price_df.pq\"))\n",
    "user_review_emb_df = pd.read_parquet(os.path.join(embeddings_path, \"user_review_emb_df.pq\"))\n",
    "user_item_emb_df = pd.read_parquet(os.path.join(embeddings_path, \"user_item_emb_df.pq\"))"
   ]
  },
  {
   "cell_type": "code",
   "execution_count": 7,
   "metadata": {},
   "outputs": [],
   "source": [
    "model = load_model(os.path.join(model_path, \"best_model.keras\"))"
   ]
  },
  {
   "cell_type": "code",
   "execution_count": 8,
   "metadata": {},
   "outputs": [],
   "source": [
    "user_names = user_review_emb_df.index\n",
    "size = len(item_desc_emb_df)"
   ]
  },
  {
   "cell_type": "code",
   "execution_count": 9,
   "metadata": {},
   "outputs": [],
   "source": [
    "def get_recommendations(user):\n",
    "    if user in user_names:\n",
    "        user_review_emb = np.tile(user_review_emb_df.loc[user], (size, 1))\n",
    "        user_item_emb = np.tile(user_item_emb_df.loc[user], (size, 1))\n",
    "        user_set = (user_review_emb, user_item_emb, item_desc_emb_df, item_price_df)\n",
    "        predictions = model.predict(user_set)\n",
    "        top_indices = np.argsort(-predictions[:, 0])[:5]  \n",
    "        recommendations = item_desc_emb_df.index[top_indices].tolist()    \n",
    "    else:\n",
    "        cold_start = df[df[\"rating\"] == 5].groupby(\"itemName\")[\"reviewTime\"].agg([\"size\", \"max\"])\n",
    "        recommendations = cold_start[\n",
    "            cold_start[\"max\"] > cold_start[\"max\"].max() - pd.Timedelta(days=30)\n",
    "        ].sort_values(\"size\", ascending=False)[:5].index.to_list()\n",
    "    return recommendations"
   ]
  },
  {
   "cell_type": "code",
   "execution_count": 10,
   "metadata": {},
   "outputs": [
    {
     "data": {
      "text/plain": [
       "'1 online shopper'"
      ]
     },
     "execution_count": 10,
     "metadata": {},
     "output_type": "execute_result"
    }
   ],
   "source": [
    "user = user_names[33]\n",
    "user"
   ]
  },
  {
   "cell_type": "code",
   "execution_count": 16,
   "metadata": {},
   "outputs": [
    {
     "data": {
      "text/plain": [
       "['ggick', 'jemezmtnangel', 'mrbigstuff', 'phelps gates', 'gilbert']"
      ]
     },
     "execution_count": 16,
     "metadata": {},
     "output_type": "execute_result"
    }
   ],
   "source": [
    "sampled_indices = np.random.choice(user_names, size=5, replace=False)\n",
    "sampled_indices.tolist()"
   ]
  },
  {
   "cell_type": "code",
   "execution_count": 12,
   "metadata": {},
   "outputs": [
    {
     "name": "stdout",
     "output_type": "stream",
     "text": [
      "\u001b[1m3405/3405\u001b[0m \u001b[32m━━━━━━━━━━━━━━━━━━━━\u001b[0m\u001b[37m\u001b[0m \u001b[1m2s\u001b[0m 509us/step\n"
     ]
    },
    {
     "data": {
      "text/plain": [
       "['hhip 39000102 r8 end mill holder 38quot',\n",
       " 'ranger sticky embossing powder 21 grams epj35275',\n",
       " '10x13 self seal catalog envelopescolor bright white large envelope10 x 13 open endpck 35 white',\n",
       " '1 inch round thank you labels with black hearts 1000 stickers per roll 2 rolls',\n",
       " 'imbaprice 000 4 x 8 kraft bubble mailers padded envelopes total 50 envelope']"
      ]
     },
     "execution_count": 12,
     "metadata": {},
     "output_type": "execute_result"
    }
   ],
   "source": [
    "get_recommendations(\"oleg\")"
   ]
  },
  {
   "cell_type": "code",
   "execution_count": null,
   "metadata": {},
   "outputs": [],
   "source": []
  }
 ],
 "metadata": {
  "kernelspec": {
   "display_name": ".venv",
   "language": "python",
   "name": "python3"
  },
  "language_info": {
   "codemirror_mode": {
    "name": "ipython",
    "version": 3
   },
   "file_extension": ".py",
   "mimetype": "text/x-python",
   "name": "python",
   "nbconvert_exporter": "python",
   "pygments_lexer": "ipython3",
   "version": "3.12.2"
  },
  "orig_nbformat": 4
 },
 "nbformat": 4,
 "nbformat_minor": 2
}
