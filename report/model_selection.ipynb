{
 "cells": [
  {
   "cell_type": "code",
   "execution_count": 2,
   "metadata": {},
   "outputs": [],
   "source": [
    "import os\n",
    "import numpy as np\n",
    "import pandas as pd\n",
    "import matplotlib.pyplot as plt\n",
    "from sklearn.metrics import classification_report, roc_curve, auc"
   ]
  },
  {
   "cell_type": "code",
   "execution_count": 2,
   "metadata": {},
   "outputs": [],
   "source": [
    "def find_fill_value(group):\n",
    "    if pd.api.types.is_numeric_dtype(group):\n",
    "        return group.mean()\n",
    "    else:\n",
    "        mode = pd.Series.mode(group, dropna=True)\n",
    "        if not mode.empty:\n",
    "            return mode[0] \n",
    "        else:\n",
    "            return None"
   ]
  },
  {
   "cell_type": "code",
   "execution_count": 3,
   "metadata": {},
   "outputs": [],
   "source": [
    "df = pd.read_csv(\"data/amazon_reviews.csv\")"
   ]
  },
  {
   "attachments": {},
   "cell_type": "markdown",
   "metadata": {},
   "source": [
    "## Project Scope\n",
    "In this project I will try to build a recommendation system that gives top 5 perosonalized recommendations for each customer, even for new, unknown customers.\n",
    "In order to acheive this I will build and compare two models:\n",
    "- Neural Network based on the embedded items and users information\n",
    "- AlternatingLeastSquares model from implicit library that uses Matrix Factorization technique.\n",
    "\n",
    "For the Neural Network I will use pretrained model to convert 'description' (representation of items), two concatenated list of items and reviews (users representation). The list of items stands for 'interaction' representation of a user, whereas list of reviews for 'behavioral' parrerns.  "
   ]
  },
  {
   "attachments": {},
   "cell_type": "markdown",
   "metadata": {},
   "source": [
    "## Data Cleaning\n",
    "General steps that cannot introduce leakage and, thus, do not require to split data into training, validation, and test sets."
   ]
  },
  {
   "cell_type": "code",
   "execution_count": 4,
   "metadata": {},
   "outputs": [],
   "source": [
    "# Keep only columns that will be used\n",
    "df = df[[\"userName\", \"itemName\", \"description\", \"price\", \"summary\", \"reviewTime\", \"rating\", \"reviewText\"]]\n",
    "# Reduce the number of rows before applying any preprocessing steps to make it more efficient\n",
    "df = df.drop_duplicates(keep=\"first\")"
   ]
  },
  {
   "cell_type": "code",
   "execution_count": 5,
   "metadata": {},
   "outputs": [],
   "source": [
    "# In the spesicied columns get rid of possible HTML attributes, make text lower case, and delete special symbols\n",
    "for col in [\"userName\", \"itemName\", \"description\", \"summary\", \"reviewText\"]:\n",
    "    df.loc[:, col] = df[col].replace(to_replace=r\"<.*?>\", value=\"\", regex=True)\\\n",
    "        .str.lower().replace(to_replace=r\"[^\\w\\s]\", value=\"\", regex=True).str.strip()\n",
    "\n",
    "# Extract numbers from 'price' column. If range is specified ($1.63 - $30.5) the mean value will be calculated\n",
    "df.loc[:, \"price\"] = df[\"price\"].str.extractall(r\"\\$ ?(\\d{1,3}(?:,\\d{3})*\\.\\d{2})\")\\\n",
    "    .replace({r\"\\$\": \"\", \",\": \"\"}, regex=True)[0].astype(float)\\\n",
    "    .groupby(level=0).agg(\"mean\").reindex(df.index, fill_value=np.nan)\n",
    "\n",
    "df.loc[:, \"reviewTime\"] = pd.to_datetime(df[\"reviewTime\"])"
   ]
  },
  {
   "cell_type": "code",
   "execution_count": 6,
   "metadata": {},
   "outputs": [],
   "source": [
    "# For each item find the most popular 'description' and 'price' for each item and apply it to the entire item group\n",
    "modes_means = df.groupby(\"itemName\")[[\"description\", \"price\"]].agg(find_fill_value)\n",
    "for col in modes_means.columns:\n",
    "    df.loc[:, col] = df[\"itemName\"].map(modes_means[col])\n",
    "\n",
    "# In cases where the 'reviewText' is missing try to use 'summary' instead to reduce number of missing reviews\n",
    "df.loc[df[\"reviewText\"].isna(), \"reviewText\"] = df.loc[df[\"reviewText\"].isna(), \"summary\"]"
   ]
  },
  {
   "cell_type": "code",
   "execution_count": 7,
   "metadata": {},
   "outputs": [],
   "source": [
    "# Cleaning the dataset\n",
    "df = df.drop(columns=[\"summary\"])\n",
    "df = df.drop_duplicates(keep=\"first\")\n",
    "df = df.dropna(subset=[\"userName\", \"itemName\", \"description\", \"reviewText\"], how=\"any\")"
   ]
  },
  {
   "cell_type": "code",
   "execution_count": 8,
   "metadata": {},
   "outputs": [],
   "source": [
    "# Make sure each item has only one description in the dataset\n",
    "assert all(df[[\"itemName\", \"description\"]].groupby(\"itemName\").nunique() == 1)"
   ]
  },
  {
   "attachments": {},
   "cell_type": "markdown",
   "metadata": {},
   "source": [
    "There are two 'users' in the dataset with extremely large number of reviews:\n",
    "- Amazon Customer\n",
    "- Kindle Customer  \n",
    "\n",
    "that have roughly 37,000 reviews together in the provided nine months of data. I assume that this is a representation of anrecognized customers. This status means that these users cannot be given personalized recommendations and should be treated as unknown customers. Moreover, their reviews also cannot be utilized. To achieve the desired effect I will exclude all records with these customers form training data (there is also no need to keep them in validation or test sets, since different logic will be applied)"
   ]
  },
  {
   "cell_type": "code",
   "execution_count": 9,
   "metadata": {},
   "outputs": [],
   "source": [
    "df_filtered = df[~df[\"userName\"].isin([\"Amazon Customer\", \"Kindle Customer\"])].copy().sort_values(\"reviewTime\")"
   ]
  },
  {
   "cell_type": "code",
   "execution_count": 10,
   "metadata": {},
   "outputs": [],
   "source": [
    "data_path = os.path.join(os.getcwd(), \"data\")\n",
    "os.makedirs(data_path, exist_ok=True)"
   ]
  },
  {
   "cell_type": "code",
   "execution_count": 11,
   "metadata": {},
   "outputs": [],
   "source": [
    "df.to_parquet(os.path.join(data_path, \"clean_df.pq\"))"
   ]
  },
  {
   "attachments": {},
   "cell_type": "markdown",
   "metadata": {},
   "source": [
    "## Data Preprocessing"
   ]
  },
  {
   "cell_type": "code",
   "execution_count": 5,
   "metadata": {},
   "outputs": [
    {
     "name": "stderr",
     "output_type": "stream",
     "text": [
      "/Users/oleg/Library/Caches/pypoetry/virtualenvs/amazon_reviews_recommender_system-BULYqcNi-py3.12/lib/python3.12/site-packages/sentence_transformers/cross_encoder/CrossEncoder.py:11: TqdmExperimentalWarning: Using `tqdm.autonotebook.tqdm` in notebook mode. Use `tqdm.tqdm` instead to force console mode (e.g. in jupyter console)\n",
      "  from tqdm.autonotebook import tqdm, trange\n",
      "/Users/oleg/Library/Caches/pypoetry/virtualenvs/amazon_reviews_recommender_system-BULYqcNi-py3.12/lib/python3.12/site-packages/sentence_transformers/evaluation/SentenceEvaluator.py:81: SyntaxWarning: invalid escape sequence '\\g'\n",
      "  return re.sub(r\"([a-z])([A-Z])\", \"\\g<1> \\g<2>\", class_name)\n",
      "/Users/oleg/Library/Caches/pypoetry/virtualenvs/amazon_reviews_recommender_system-BULYqcNi-py3.12/lib/python3.12/site-packages/sentence_transformers/model_card.py:524: SyntaxWarning: invalid escape sequence '\\d'\n",
      "  if dataset_name and re.match(\"_dataset_\\d+\", dataset_name):\n",
      "/Users/oleg/Library/Caches/pypoetry/virtualenvs/amazon_reviews_recommender_system-BULYqcNi-py3.12/lib/python3.12/site-packages/sentence_transformers/losses/DenoisingAutoEncoderLoss.py:16: SyntaxWarning: invalid escape sequence '\\_'\n",
      "  \"\"\"\n"
     ]
    }
   ],
   "source": [
    "from imblearn.under_sampling import RandomUnderSampler\n",
    "from sentence_transformers import SentenceTransformer\n",
    "from sklearn.impute import KNNImputer\n",
    "from sklearn.preprocessing import RobustScaler"
   ]
  },
  {
   "attachments": {},
   "cell_type": "markdown",
   "metadata": {},
   "source": [
    "The goal is to provide the best possible recommendations (that would be rated with the highest score - 5) for users. This transforms the task into a binary classification problem. All the highest ratings will betreated as 'to recommend' (1), and all the others will be treated as 'to not recommend' (0). This approach will also help to deal with the dataset imbalance, combining four minority classes into one."
   ]
  },
  {
   "cell_type": "code",
   "execution_count": 13,
   "metadata": {},
   "outputs": [],
   "source": [
    "df_filtered.loc[df_filtered[\"rating\"] != 5, \"rating\"] = 0\n",
    "df_filtered.loc[df_filtered[\"rating\"] == 5, \"rating\"] = 1"
   ]
  },
  {
   "attachments": {},
   "cell_type": "markdown",
   "metadata": {},
   "source": [
    "The dataset contains information abount the date of the rating, which means we can simulate real life behaviour, when we need to predict having only historical data. To do this, I will split the data into train, validation, and test sets taking into account 'reviewTime' feature.\n",
    "For the train set I will use 80% of the data, and by 10% for each validation and test set:"
   ]
  },
  {
   "cell_type": "code",
   "execution_count": 14,
   "metadata": {},
   "outputs": [],
   "source": [
    "# First calculate desired size of the sets\n",
    "train_size = int(len(df_filtered) * 0.8)\n",
    "test_size = int(len(df_filtered) * 0.1)\n",
    "\n",
    "data = df_filtered.sort_values(\"reviewTime\", ascending=True)\n",
    "# Find the date in the last row of potential 'train' set\n",
    "tr_last_value = data.iloc[:train_size][\"reviewTime\"].max()\n",
    "# And separate all the data with dates before the maximum date including (this may result in a bit bigger size of dataset)\n",
    "train = data[data[\"reviewTime\"] <= tr_last_value].copy()\n",
    "\n",
    "# Finde the date in the first row of potential 'test' set\n",
    "te_first_value = data.iloc[-test_size: ][\"reviewTime\"].min()\n",
    "# Ans separate all the dates after the minimum date not including (this may result in a bit smaller size of dataset)\n",
    "test = data[data[\"reviewTime\"] > te_first_value].copy()\n",
    "\n",
    "# For the 'validation' set use all the data with dates in between including 'right' boundary\n",
    "validation = data[data[\"reviewTime\"].between(tr_last_value, te_first_value, inclusive=\"right\")].copy()"
   ]
  },
  {
   "attachments": {},
   "cell_type": "markdown",
   "metadata": {},
   "source": [
    "Now I will create 'mapping' datasets for items and users.  \n",
    "The set of items is not dependent on the date or any other circumstances - it is provided by the business owner. Contrary, the information about usets is always time dependen, and in this case only data collected before the end of 'training' time must be used."
   ]
  },
  {
   "cell_type": "code",
   "execution_count": 15,
   "metadata": {},
   "outputs": [],
   "source": [
    "# For items use full dataset before any filters\n",
    "desc = df[[\"itemName\", \"description\"]].drop_duplicates().set_index(\"itemName\")\n",
    "# For the users use only train dataset and apply concatenation all the relevant strings into one.\n",
    "user_reviews = train.groupby(\"userName\")[\"reviewText\"].agg(lambda x: \" \".join(x))\n",
    "user_items = train.groupby(\"userName\")[\"itemName\"].agg(lambda x: \" \".join(x))"
   ]
  },
  {
   "attachments": {},
   "cell_type": "markdown",
   "metadata": {},
   "source": [
    "Since the dataset is imbalanced, I will appy undersamping technique to train set to make both groups sizes equal."
   ]
  },
  {
   "cell_type": "code",
   "execution_count": 16,
   "metadata": {},
   "outputs": [],
   "source": [
    "rus = RandomUnderSampler(random_state=42)\n",
    "train, y = rus.fit_resample(train.drop(columns=\"rating\"), train[\"rating\"])\n",
    "train[\"rating\"] = y"
   ]
  },
  {
   "cell_type": "code",
   "execution_count": 17,
   "metadata": {},
   "outputs": [
    {
     "name": "stderr",
     "output_type": "stream",
     "text": [
      "/Users/oleg/INSAIT/assignment/.venv/lib/python3.10/site-packages/transformers/tokenization_utils_base.py:1601: FutureWarning: `clean_up_tokenization_spaces` was not set. It will be set to `True` by default. This behavior will be depracted in transformers v4.45, and will be then set to `False` by default. For more details check this issue: https://github.com/huggingface/transformers/issues/31884\n",
      "  warnings.warn(\n"
     ]
    }
   ],
   "source": [
    "encoder = SentenceTransformer(\"all-MiniLM-L6-v2\")"
   ]
  },
  {
   "cell_type": "code",
   "execution_count": 18,
   "metadata": {},
   "outputs": [],
   "source": [
    "def get_embedded_df(encoder, data, name=\"\"):\n",
    "    # Encode \n",
    "    emb = encoder.encode(data, show_progress_bar=True, normalize_embeddings=True)\n",
    "    # Transform into pandas DataFrame object\n",
    "    emb_df = pd.DataFrame(emb, index=data.index)\n",
    "    # Convert columns names into strings\n",
    "    emb_df.columns = emb_df.columns.astype(str)\n",
    "    if name:\n",
    "        # Save the data for further use\n",
    "        emb_df.to_parquet(name)\n",
    "    return emb_df"
   ]
  },
  {
   "cell_type": "code",
   "execution_count": 19,
   "metadata": {},
   "outputs": [],
   "source": [
    "def impute_missing(base, df, col, name=\"\"):\n",
    "    imputer = KNNImputer()\n",
    "    # Use embedding dataframe as a bese for KNN search\n",
    "    data = base.copy()\n",
    "    \n",
    "    # Add 'price' columns to the embedding dataframe\n",
    "    data[col] = data.index.map(\n",
    "        df.set_index(data.index.name)[col].astype(float).to_dict()\n",
    "    )\n",
    "    # impute missing values (expected to be only in the 'col', but generally it is not necessary)\n",
    "    imputed = imputer.fit_transform(data)[:,-1]\n",
    "    \n",
    "    # Scale using RobustScales since outliers can significantly affect scaling\n",
    "    scaler = RobustScaler()\n",
    "    imputed = scaler.fit_transform(imputed.reshape(-1, 1))\n",
    "    \n",
    "    # Transform into pandas DataFrame object\n",
    "    imputed_df = pd.DataFrame(imputed, index=data.index, columns=[col])\n",
    "    if name:\n",
    "        # Save the data for further use\n",
    "        imputed_df.to_parquet(name)\n",
    "    return imputed_df"
   ]
  },
  {
   "cell_type": "code",
   "execution_count": 20,
   "metadata": {},
   "outputs": [],
   "source": [
    "embeddings_path = os.path.join(os.getcwd(), \"embeddings\")\n",
    "os.makedirs(embeddings_path, exist_ok=True)"
   ]
  },
  {
   "cell_type": "code",
   "execution_count": 21,
   "metadata": {},
   "outputs": [],
   "source": [
    "# item_desc_emb_df = get_embedded_df(encoder, desc[\"description\"], os.path.join(embeddings_path, \"item_desc_emb_df.pq\"))\n",
    "# item_price_df = impute_missing(base=item_desc_emb_df, df=df, col=\"price\", name=os.path.join(embeddings_path, \"item_price_df.pq\"))\n",
    "# user_review_emb_df = get_embedded_df(encoder, user_reviews, os.path.join(embeddings_path, \"user_review_emb_df.pq\"))\n",
    "# user_item_emb_df = get_embedded_df(encoder, user_items, os.path.join(embeddings_path, \"user_item_emb_df.pq\"))"
   ]
  },
  {
   "cell_type": "code",
   "execution_count": 22,
   "metadata": {},
   "outputs": [],
   "source": [
    "# Read existing files, if they already created\n",
    "item_desc_emb_df = pd.read_parquet(os.path.join(embeddings_path, \"item_desc_emb_df.pq\"))\n",
    "item_price_df = pd.read_parquet(os.path.join(embeddings_path, \"item_price_df.pq\"))\n",
    "user_review_emb_df = pd.read_parquet(os.path.join(embeddings_path, \"user_review_emb_df.pq\"))\n",
    "user_item_emb_df = pd.read_parquet(os.path.join(embeddings_path, \"user_item_emb_df.pq\"))"
   ]
  },
  {
   "cell_type": "code",
   "execution_count": 23,
   "metadata": {},
   "outputs": [],
   "source": [
    "# Validate that two dataframes that represent users have identical index\n",
    "assert user_review_emb_df.index.equals(user_item_emb_df.index),\\\n",
    "\"Indices in 'user_review_emb_df' and 'user_item_emb_df' are different\""
   ]
  },
  {
   "attachments": {},
   "cell_type": "markdown",
   "metadata": {},
   "source": [
    "As I mentioned previously, only existing in training dataset users should be used in all of them, which simulates real life data behaviour."
   ]
  },
  {
   "cell_type": "code",
   "execution_count": 24,
   "metadata": {},
   "outputs": [],
   "source": [
    "# Keep only existing in training dataset users\n",
    "val_filtered = validation[validation[\"userName\"].isin(user_review_emb_df.index)].copy()\n",
    "test_filtered = test[test[\"userName\"].isin(user_review_emb_df.index)].copy()"
   ]
  },
  {
   "cell_type": "code",
   "execution_count": 25,
   "metadata": {},
   "outputs": [],
   "source": [
    "# Store all the datasets in one list for the purposes of usability\n",
    "dfs = [train, val_filtered, test_filtered]"
   ]
  },
  {
   "attachments": {},
   "cell_type": "markdown",
   "metadata": {},
   "source": [
    "## Neural Network Model"
   ]
  },
  {
   "cell_type": "code",
   "execution_count": 9,
   "metadata": {},
   "outputs": [],
   "source": [
    "import tensorflow as tf\n",
    "from tensorflow.keras.models import Model\n",
    "from tensorflow.keras.layers import Input, Dense, Concatenate, Dropout, BatchNormalization\n",
    "from tensorflow.keras.callbacks import EarlyStopping"
   ]
  },
  {
   "cell_type": "code",
   "execution_count": 27,
   "metadata": {},
   "outputs": [],
   "source": [
    "def get_embedded_x(train, val, test, emb, col):\n",
    "    # Create numpy arrays for train, validation, and test data from embeddings\n",
    "    X_train = train[[col]].join(emb, on=col).drop(columns=col).values\n",
    "    X_val = val[[col]].join(emb, on=col).drop(columns=col).values\n",
    "    X_test = test[[col]].join(emb, on=col).drop(columns=col).values\n",
    "    return X_train, X_val, X_test"
   ]
  },
  {
   "cell_type": "code",
   "execution_count": 28,
   "metadata": {},
   "outputs": [],
   "source": [
    "# Create embedding datasets\n",
    "X_user_review_train, X_user_review_val, X_user_review_test = get_embedded_x(*dfs, user_review_emb_df, \"userName\")\n",
    "X_user_item_train, X_user_item_val, X_user_item_test = get_embedded_x(*dfs, user_item_emb_df, \"userName\")\n",
    "X_item_desc_train, X_item_desc_val, X_item_desc_test = get_embedded_x(*dfs, item_desc_emb_df, \"itemName\")\n",
    "# Additionally, create dataset from non-embeded data. Any additional numeric data can be used that describes user / item profile information\n",
    "X_price_train, X_price_val, X_price_test = [df[\"itemName\"].map(item_price_df[\"price\"]).values.reshape(- 1, 1) for df in dfs]\n",
    "\n",
    "# Create true label fro each dataset\n",
    "y_train, y_val, y_test = [df[\"rating\"].values.reshape(-1, 1) for df in dfs]"
   ]
  },
  {
   "cell_type": "code",
   "execution_count": 29,
   "metadata": {},
   "outputs": [],
   "source": [
    "# Wrap all the datasets in tuples\n",
    "train_set = ((X_user_review_train, X_user_item_train, X_item_desc_train, X_price_train), y_train)\n",
    "val_set = ((X_user_review_val, X_user_item_val, X_item_desc_val, X_price_val), y_val)\n",
    "test_set = ((X_user_review_test, X_user_item_test, X_item_desc_test, X_price_test), y_test)"
   ]
  },
  {
   "cell_type": "code",
   "execution_count": 30,
   "metadata": {},
   "outputs": [],
   "source": [
    "inputs, _ = train_set\n",
    "input_layers = []\n",
    "concat_inputs = []\n",
    "\n",
    "for idx, input_shape in enumerate([input_.shape[1] for input_ in inputs]):\n",
    "    input_layer = Input(shape=(input_shape,), name=f\"input_{idx + 1}\")\n",
    "    input_layers.append(input_layer)\n",
    "    \n",
    "x = Concatenate()(input_layers)\n",
    "\n",
    "# x = Dense(512, activation=\"tanh\")(x)\n",
    "x = Dropout(0.3)(x)\n",
    "# x = BatchNormalization()(x)\n",
    "x = Dense(128, activation=\"relu\")(x)\n",
    "x = Dropout(0.3)(x)\n",
    "# x = Dense(64, activation=\"relu\")(x)\n",
    "rating_output = Dense(1, activation=\"sigmoid\")(x)\n",
    "\n",
    "model = Model(inputs=input_layers, outputs=rating_output)\n",
    "model.compile(optimizer=\"adam\", loss=\"binary_crossentropy\", metrics=[\"accuracy\"])"
   ]
  },
  {
   "cell_type": "code",
   "execution_count": 31,
   "metadata": {},
   "outputs": [],
   "source": [
    "early_stopper = EarlyStopping(\n",
    "    monitor=\"val_accuracy\",\n",
    "    patience=3,\n",
    "    verbose=1,\n",
    "    mode=\"max\",\n",
    "    restore_best_weights=True\n",
    ")"
   ]
  },
  {
   "cell_type": "code",
   "execution_count": 32,
   "metadata": {},
   "outputs": [
    {
     "name": "stdout",
     "output_type": "stream",
     "text": [
      "Epoch 1/10\n",
      "\u001b[1m3925/3925\u001b[0m \u001b[32m━━━━━━━━━━━━━━━━━━━━\u001b[0m\u001b[37m\u001b[0m \u001b[1m10s\u001b[0m 2ms/step - accuracy: 0.5994 - loss: 0.6552 - val_accuracy: 0.5624 - val_loss: 0.7033\n",
      "Epoch 2/10\n",
      "\u001b[1m3925/3925\u001b[0m \u001b[32m━━━━━━━━━━━━━━━━━━━━\u001b[0m\u001b[37m\u001b[0m \u001b[1m6s\u001b[0m 2ms/step - accuracy: 0.6228 - loss: 0.6345 - val_accuracy: 0.5580 - val_loss: 0.7043\n",
      "Epoch 3/10\n",
      "\u001b[1m3925/3925\u001b[0m \u001b[32m━━━━━━━━━━━━━━━━━━━━\u001b[0m\u001b[37m\u001b[0m \u001b[1m6s\u001b[0m 1ms/step - accuracy: 0.6287 - loss: 0.6311 - val_accuracy: 0.5644 - val_loss: 0.6975\n",
      "Epoch 4/10\n",
      "\u001b[1m3925/3925\u001b[0m \u001b[32m━━━━━━━━━━━━━━━━━━━━\u001b[0m\u001b[37m\u001b[0m \u001b[1m7s\u001b[0m 2ms/step - accuracy: 0.6340 - loss: 0.6261 - val_accuracy: 0.5491 - val_loss: 0.7062\n",
      "Epoch 5/10\n",
      "\u001b[1m3925/3925\u001b[0m \u001b[32m━━━━━━━━━━━━━━━━━━━━\u001b[0m\u001b[37m\u001b[0m \u001b[1m6s\u001b[0m 1ms/step - accuracy: 0.6414 - loss: 0.6208 - val_accuracy: 0.5629 - val_loss: 0.7005\n",
      "Epoch 6/10\n",
      "\u001b[1m3925/3925\u001b[0m \u001b[32m━━━━━━━━━━━━━━━━━━━━\u001b[0m\u001b[37m\u001b[0m \u001b[1m6s\u001b[0m 2ms/step - accuracy: 0.6441 - loss: 0.6177 - val_accuracy: 0.5794 - val_loss: 0.6914\n",
      "Epoch 7/10\n",
      "\u001b[1m3925/3925\u001b[0m \u001b[32m━━━━━━━━━━━━━━━━━━━━\u001b[0m\u001b[37m\u001b[0m \u001b[1m6s\u001b[0m 1ms/step - accuracy: 0.6496 - loss: 0.6141 - val_accuracy: 0.5715 - val_loss: 0.6973\n",
      "Epoch 8/10\n",
      "\u001b[1m3925/3925\u001b[0m \u001b[32m━━━━━━━━━━━━━━━━━━━━\u001b[0m\u001b[37m\u001b[0m \u001b[1m6s\u001b[0m 2ms/step - accuracy: 0.6517 - loss: 0.6106 - val_accuracy: 0.5845 - val_loss: 0.6985\n",
      "Epoch 9/10\n",
      "\u001b[1m3925/3925\u001b[0m \u001b[32m━━━━━━━━━━━━━━━━━━━━\u001b[0m\u001b[37m\u001b[0m \u001b[1m6s\u001b[0m 2ms/step - accuracy: 0.6541 - loss: 0.6072 - val_accuracy: 0.5677 - val_loss: 0.7018\n",
      "Epoch 10/10\n",
      "\u001b[1m3925/3925\u001b[0m \u001b[32m━━━━━━━━━━━━━━━━━━━━\u001b[0m\u001b[37m\u001b[0m \u001b[1m6s\u001b[0m 2ms/step - accuracy: 0.6583 - loss: 0.6051 - val_accuracy: 0.5782 - val_loss: 0.7044\n",
      "Restoring model weights from the end of the best epoch: 8.\n"
     ]
    }
   ],
   "source": [
    "history = model.fit(\n",
    "    train_set[0], train_set[1],\n",
    "    epochs=10, batch_size=64, \n",
    "    validation_data=(val_set[0], val_set[1]), \n",
    "    callbacks=[early_stopper]\n",
    ")"
   ]
  },
  {
   "cell_type": "code",
   "execution_count": 33,
   "metadata": {},
   "outputs": [
    {
     "name": "stdout",
     "output_type": "stream",
     "text": [
      "\u001b[1m997/997\u001b[0m \u001b[32m━━━━━━━━━━━━━━━━━━━━\u001b[0m\u001b[37m\u001b[0m \u001b[1m0s\u001b[0m 378us/step - accuracy: 0.5863 - loss: 0.6956\n"
     ]
    },
    {
     "data": {
      "text/plain": [
       "[0.6989006996154785, 0.5817052721977234]"
      ]
     },
     "execution_count": 33,
     "metadata": {},
     "output_type": "execute_result"
    }
   ],
   "source": [
    "model.evaluate(test_set[0], test_set[1])"
   ]
  },
  {
   "cell_type": "code",
   "execution_count": 34,
   "metadata": {},
   "outputs": [
    {
     "name": "stdout",
     "output_type": "stream",
     "text": [
      "\u001b[1m997/997\u001b[0m \u001b[32m━━━━━━━━━━━━━━━━━━━━\u001b[0m\u001b[37m\u001b[0m \u001b[1m1s\u001b[0m 490us/step\n"
     ]
    }
   ],
   "source": [
    "y_pred_prob = model.predict(test_set[0])\n",
    "y_pred = np.round(y_pred_prob).astype(int)"
   ]
  },
  {
   "cell_type": "code",
   "execution_count": 35,
   "metadata": {},
   "outputs": [
    {
     "name": "stdout",
     "output_type": "stream",
     "text": [
      "              precision    recall  f1-score   support\n",
      "\n",
      "         0.0       0.39      0.49      0.43     10322\n",
      "         1.0       0.72      0.62      0.67     21567\n",
      "\n",
      "    accuracy                           0.58     31889\n",
      "   macro avg       0.55      0.56      0.55     31889\n",
      "weighted avg       0.61      0.58      0.59     31889\n",
      "\n",
      "AUC: 0.5848599629420489\n"
     ]
    }
   ],
   "source": [
    "print(classification_report(y_test, y_pred))\n",
    "fpr, tpr, thresholds = roc_curve(y_test, y_pred_prob)\n",
    "roc_auc = auc(fpr, tpr)\n",
    "print(\"AUC:\", roc_auc)"
   ]
  },
  {
   "cell_type": "code",
   "execution_count": 36,
   "metadata": {},
   "outputs": [
    {
     "data": {
      "image/png": "[encoded data removed]",
      "text/plain": [
       "<Figure size 800x600 with 1 Axes>"
      ]
     },
     "metadata": {},
     "output_type": "display_data"
    }
   ],
   "source": [
    "plt.figure(figsize=(8, 6))\n",
    "plt.plot(fpr, tpr, color='darkorange', lw=2, label='ROC curve (AUC = %0.2f)' % roc_auc)\n",
    "plt.plot([0, 1], [0, 1], color='navy', lw=2, linestyle='--')\n",
    "plt.xlim([0.0, 1.0])\n",
    "plt.ylim([0.0, 1.05])\n",
    "plt.xlabel('False Positive Rate')\n",
    "plt.ylabel('True Positive Rate')\n",
    "plt.title('Receiver Operating Characteristic')\n",
    "plt.legend(loc=\"lower right\")\n",
    "plt.show()"
   ]
  },
  {
   "attachments": {},
   "cell_type": "markdown",
   "metadata": {},
   "source": [
    "## Matrix Factorization Model"
   ]
  },
  {
   "attachments": {},
   "cell_type": "markdown",
   "metadata": {},
   "source": [
    "I will use AlternatingLeastSquares algorithm sinct it fits for the sparse matrix problem.\n",
    "The algorithm utilizes Matrix Factorization technique which takes a user-item interaction matrix and factorize it into two lower-dimensional matrices:\n",
    "- user matrix that represents the latent factors of users\n",
    "- item matrix that epresents the latent factors of items  \n",
    "\n",
    "where their interactions are modeled as dot products."
   ]
  },
  {
   "cell_type": "code",
   "execution_count": 11,
   "metadata": {},
   "outputs": [],
   "source": [
    "from implicit.als import AlternatingLeastSquares\n",
    "from scipy.sparse import csr_matrix"
   ]
  },
  {
   "cell_type": "code",
   "execution_count": null,
   "metadata": {},
   "outputs": [],
   "source": [
    "# First calculate desired size of the sets\n",
    "train_size = int(len(df_filtered) * 0.85)\n",
    "\n",
    "data = df_filtered.sort_values(\"reviewTime\", ascending=True)\n",
    "# Find the date in the last row of potential 'train' set\n",
    "tr_last_value = data.iloc[:train_size][\"reviewTime\"].max()\n",
    "# And separate all the data with dates before the maximum date including (this may result in a bit bigger size of dataset)\n",
    "train_mf = data[data[\"reviewTime\"] <= tr_last_value].copy()\n",
    "\n",
    "# Separate all the dates after the maximum date not including (this may result in a bit smaller size of dataset)\n",
    "test_mf = data[data[\"reviewTime\"] > tr_last_value].copy()"
   ]
  },
  {
   "cell_type": "code",
   "execution_count": null,
   "metadata": {},
   "outputs": [],
   "source": [
    "# Extract mappings for users and items. !For items full data is used, since all the items known at the date of prediction.\n",
    "user_names = train_mf[\"userName\"].unique()\n",
    "item_names = train_mf[\"itemName\"].unique()\n",
    "user_mapping = {user_name: i for i, user_name in enumerate(user_names)}\n",
    "item_mapping = {item_name: i for i, item_name in enumerate(item_names)}"
   ]
  },
  {
   "cell_type": "code",
   "execution_count": null,
   "metadata": {},
   "outputs": [],
   "source": [
    "train_mf[\"userId\"] = train_mf[\"userName\"].map(user_mapping)\n",
    "train_mf[\"itemId\"] = train_mf[\"itemName\"].map(item_mapping)"
   ]
  },
  {
   "cell_type": "code",
   "execution_count": null,
   "metadata": {},
   "outputs": [],
   "source": [
    "test_filtered_mf = test_mf[test_mf[\"userName\"].isin(user_names) & test_mf[\"itemName\"].isin(item_names)].copy()\n",
    "test_filtered_mf[\"userId\"] = test_filtered_mf[\"userName\"].map(user_mapping)\n",
    "test_filtered_mf[\"itemId\"] = test_filtered_mf[\"itemName\"].map(item_mapping)"
   ]
  },
  {
   "cell_type": "code",
   "execution_count": null,
   "metadata": {},
   "outputs": [],
   "source": [
    "sparse_item_user_train = csr_matrix((train_mf[\"rating\"], (train_mf[\"userId\"], train_mf[\"itemId\"])))\n",
    "\n",
    "model = AlternatingLeastSquares(factors=30, regularization=0.1, iterations=30)\n",
    "model.fit(sparse_item_user_train)"
   ]
  },
  {
   "cell_type": "code",
   "execution_count": null,
   "metadata": {},
   "outputs": [],
   "source": [
    "user_factors = model.user_factors\n",
    "item_factors = model.item_factors"
   ]
  },
  {
   "cell_type": "code",
   "execution_count": null,
   "metadata": {},
   "outputs": [],
   "source": [
    "def predict(user_id, item_id):\n",
    "    user_vec = user_factors[user_id]\n",
    "    item_vec = item_factors[item_id]\n",
    "    score = np.dot(user_vec, item_vec)\n",
    "    return score"
   ]
  },
  {
   "cell_type": "code",
   "execution_count": null,
   "metadata": {},
   "outputs": [],
   "source": [
    "y_test_mf = test_filtered_mf[\"rating\"]"
   ]
  },
  {
   "cell_type": "code",
   "execution_count": null,
   "metadata": {},
   "outputs": [],
   "source": [
    "# Apply prediction to the test set\n",
    "y_pred_score = test_filtered_mf.apply(lambda x: predict(x[\"userId\"], x[\"itemId\"]), axis=1)\n",
    "# Normalize the predicted scores\n",
    "y_pred_score = (y_pred_score - y_pred_score.min()) / (y_pred_score.max() - y_pred_score.min())"
   ]
  },
  {
   "cell_type": "code",
   "execution_count": null,
   "metadata": {},
   "outputs": [],
   "source": [
    "threshold = y_pred_score.median()\n",
    "print(classification_report(y_test_mf, (y_pred_score >= threshold).astype(int)))\n",
    "fpr, tpr, thresholds = roc_curve(y_test_mf, y_pred_score)\n",
    "roc_auc = auc(fpr, tpr)\n",
    "print(\"AUC:\", roc_auc)"
   ]
  },
  {
   "cell_type": "code",
   "execution_count": null,
   "metadata": {},
   "outputs": [],
   "source": [
    "plt.figure(figsize=(8, 6))\n",
    "plt.plot(fpr, tpr, color='darkorange', lw=2, label='ROC curve (AUC = %0.2f)' % roc_auc)\n",
    "plt.plot([0, 1], [0, 1], color='navy', lw=2, linestyle='--')\n",
    "plt.xlim([0.0, 1.0])\n",
    "plt.ylim([0.0, 1.05])\n",
    "plt.xlabel('False Positive Rate')\n",
    "plt.ylabel('True Positive Rate')\n",
    "plt.title('Receiver Operating Characteristic')\n",
    "plt.legend(loc=\"lower right\")\n",
    "plt.show()"
   ]
  },
  {
   "attachments": {},
   "cell_type": "markdown",
   "metadata": {},
   "source": [
    "## Model Selection"
   ]
  },
  {
   "attachments": {},
   "cell_type": "markdown",
   "metadata": {},
   "source": [
    "There are several questions need to be addressed during model selection process:\n",
    "- model efficiency (metrics)\n",
    "- model maintanability\n",
    "- resources availability (for training purposes)\n",
    "- possibility to add new users / items\n",
    "\n",
    "First, I'd like to explain metrics choosen:\n",
    "- overall accuracy\n",
    "- class 1 precision\n",
    "- AUC\n"
   ]
  },
  {
   "attachments": {},
   "cell_type": "markdown",
   "metadata": {},
   "source": [
    "The task for the model is to identify the products that that user will rate with the 'maximum' score (5) which stands for positive label. Overall accuracy shows how precise model does predictions, i.e. how good it  can destinguish a good user-item fit. Class 1 precision shows how many good items were found out of the entire pool. The AUC shows for how good model outperforms random predictions.  \n",
    "Unfortunately, both my models are not very accurate in recognizing good items but the Neural Network Model has a bit higher AUC score which tells that it performs a bit better the the Matrix Factorization Model."
   ]
  },
  {
   "attachments": {},
   "cell_type": "markdown",
   "metadata": {},
   "source": [
    "In addition to that I would like to add, that it is much easier to improve Neural Network Model performance by adding more meaningful features. Such feature can be, for example, embedded users profiles collected from additional sources, like web browser cookies, search hiistory, or even social-economical characteristics, like household income, marital status, etc. And such additional features can help to solve 'cold start problem' when there is no way to estimate what products an user will like."
   ]
  },
  {
   "attachments": {},
   "cell_type": "markdown",
   "metadata": {},
   "source": [
    "On the other hand, Matrix Factorization Model allows to add new customers only by complete retraining of the model, which is not computationally expensive, though."
   ]
  },
  {
   "attachments": {},
   "cell_type": "markdown",
   "metadata": {},
   "source": [
    "In addition to the above, I would like to check how models performs with the specific task of recommending top 5 products for customers. The approach is not exact, but it still helps to evaluate the models.\n",
    "\n",
    "The task is select only top 5 predictions out of the entires set of predictions for eahc user in the test dataset. This will ensure model's ability to prioritize, since items with the highest probability should be of class 1."
   ]
  },
  {
   "cell_type": "code",
   "execution_count": null,
   "metadata": {},
   "outputs": [],
   "source": [
    "nn_predictions = pd.DataFrame(index=test_filtered[\"userName\"])\n",
    "\n",
    "nn_predictions[\"y_true\"] = y_test\n",
    "nn_predictions[\"y_pred\"] = y_pred_prob\n",
    "nn_predictions = nn_predictions.reset_index()"
   ]
  },
  {
   "cell_type": "code",
   "execution_count": null,
   "metadata": {},
   "outputs": [],
   "source": [
    "nn_top_predictions = nn_predictions.groupby(\"userName\").apply(lambda x: x.nlargest(5, 'y_pred')).reset_index(drop=True)\n",
    "nn_top_predictions.groupby(\"userName\")[\"y_true\"].mean().describe()"
   ]
  },
  {
   "attachments": {},
   "cell_type": "markdown",
   "metadata": {},
   "source": [
    "There are 14k unique users.  \n",
    "66.6% of the users got right predictions, but there can be a case when user appeas only once in the dataset, which will highly affect the statistics, because we want to estimate multiple predictions for a user."
   ]
  },
  {
   "cell_type": "code",
   "execution_count": null,
   "metadata": {},
   "outputs": [],
   "source": [
    "nn_top_predictions.value_counts(\"userName\").describe()"
   ]
  },
  {
   "cell_type": "code",
   "execution_count": null,
   "metadata": {},
   "outputs": [],
   "source": [
    "for prods in range(1, 5):\n",
    "    \n",
    "    nn_people = nn_top_predictions.groupby(\"userName\").size().loc[nn_top_predictions.groupby(\"userName\").size() > prods].index\n",
    "    print(\n",
    "        f\"Average success for group with more than {prods} product:\",\n",
    "        round(nn_top_predictions[nn_top_predictions[\"userName\"].isin(nn_people)][\"y_true\"].mean(), 4) * 100\n",
    "    )"
   ]
  },
  {
   "cell_type": "code",
   "execution_count": null,
   "metadata": {},
   "outputs": [],
   "source": [
    "mf_predictions = pd.DataFrame(index=test_filtered_mf[\"userName\"])\n",
    "\n",
    "mf_predictions[\"y_true\"] = y_test_mf.values\n",
    "mf_predictions[\"y_pred\"] = y_pred_score.values\n",
    "mf_predictions = mf_predictions.reset_index()"
   ]
  },
  {
   "cell_type": "code",
   "execution_count": null,
   "metadata": {},
   "outputs": [],
   "source": [
    "mf_top_predictions = mf_predictions.groupby(\"userName\").apply(lambda x: x.nlargest(5, 'y_pred')).reset_index(drop=True)\n",
    "mf_top_predictions.groupby(\"userName\")[\"y_true\"].mean().describe()"
   ]
  },
  {
   "cell_type": "code",
   "execution_count": null,
   "metadata": {},
   "outputs": [],
   "source": [
    "mf_top_predictions.value_counts(\"userName\").describe()"
   ]
  },
  {
   "cell_type": "code",
   "execution_count": null,
   "metadata": {},
   "outputs": [],
   "source": [
    "for prods in range(1, 5):\n",
    "    \n",
    "    mf_people = mf_top_predictions.groupby(\"userName\").size().loc[mf_top_predictions.groupby(\"userName\").size() > prods].index\n",
    "    print(\n",
    "        f\"Average success for group with more than {prods} product:\",\n",
    "        round(mf_top_predictions[mf_top_predictions[\"userName\"].isin(mf_people)][\"y_true\"].mean(), 4) * 100\n",
    "    )"
   ]
  },
  {
   "attachments": {},
   "cell_type": "markdown",
   "metadata": {},
   "source": [
    "## Conclusion"
   ]
  },
  {
   "attachments": {},
   "cell_type": "markdown",
   "metadata": {},
   "source": [
    "It seems like both models have pretty much the same efficiency and give almost 70% of good recommendations in the top 5 products and models do not assign high scores / probabilities to 'bad' items more often than to 'good' ones."
   ]
  },
  {
   "attachments": {},
   "cell_type": "markdown",
   "metadata": {},
   "source": [
    "I will select Neural Network Model for the application because it is more promising in terms of AUC score and future option to improve using external data sources. But if extremely lightweighted solution is needed, the Matrix Factorization Model is an amazing choice."
   ]
  },
  {
   "cell_type": "code",
   "execution_count": 37,
   "metadata": {},
   "outputs": [],
   "source": [
    "model_path = os.path.join(os.getcwd(), \"models\")\n",
    "os.makedirs(model_path, exist_ok=True)"
   ]
  },
  {
   "cell_type": "code",
   "execution_count": 38,
   "metadata": {},
   "outputs": [],
   "source": [
    "model.save(os.path.join(model_path, \"best_model.keras\"))"
   ]
  },
  {
   "cell_type": "code",
   "execution_count": null,
   "metadata": {},
   "outputs": [],
   "source": []
  }
 ],
 "metadata": {
  "kernelspec": {
   "display_name": ".venv",
   "language": "python",
   "name": "python3"
  },
  "language_info": {
   "codemirror_mode": {
    "name": "ipython",
    "version": 3
   },
   "file_extension": ".py",
   "mimetype": "text/x-python",
   "name": "python",
   "nbconvert_exporter": "python",
   "pygments_lexer": "ipython3",
   "version": "3.12.2"
  },
  "orig_nbformat": 4
 },
 "nbformat": 4,
 "nbformat_minor": 2
}
